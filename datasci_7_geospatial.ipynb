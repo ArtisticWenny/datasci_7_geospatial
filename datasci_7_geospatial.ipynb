{
  "nbformat": 4,
  "nbformat_minor": 0,
  "metadata": {
    "colab": {
      "provenance": [],
      "authorship_tag": "ABX9TyPNkc4PH86zdgzhoBQ0zBVa",
      "include_colab_link": true
    },
    "kernelspec": {
      "name": "python3",
      "display_name": "Python 3"
    },
    "language_info": {
      "name": "python"
    }
  },
  "cells": [
    {
      "cell_type": "markdown",
      "metadata": {
        "id": "view-in-github",
        "colab_type": "text"
      },
      "source": [
        "<a href=\"https://colab.research.google.com/github/ArtisticWenny/datasci_7_geospatial/blob/main/datasci_7_geospatial.ipynb\" target=\"_parent\"><img src=\"https://colab.research.google.com/assets/colab-badge.svg\" alt=\"Open In Colab\"/></a>"
      ]
    },
    {
      "cell_type": "markdown",
      "source": [
        "LOAD IN PACKAGES AND FILE"
      ],
      "metadata": {
        "id": "cao7XP6afjkD"
      }
    },
    {
      "cell_type": "code",
      "execution_count": 3,
      "metadata": {
        "id": "lgRG4UkYfiMy"
      },
      "outputs": [],
      "source": [
        "import requests\n",
        "import requests\n",
        "import pandas as pd\n",
        "import numpy as np\n",
        "import re\n",
        "import geopandas as gpd\n",
        "import matplotlib.pyplot as plt\n",
        "import urllib.parse\n",
        "import os\n",
        "import json"
      ]
    },
    {
      "cell_type": "code",
      "source": [
        "from google.colab import drive\n",
        "\n",
        "drive.mount('/content/drive')"
      ],
      "metadata": {
        "colab": {
          "base_uri": "https://localhost:8080/"
        },
        "id": "oOabbSNFfrPN",
        "outputId": "3b1cb7b5-48a3-4e8d-8583-8c546c85f134"
      },
      "execution_count": 2,
      "outputs": [
        {
          "output_type": "stream",
          "name": "stdout",
          "text": [
            "Mounted at /content/drive\n"
          ]
        }
      ]
    },
    {
      "cell_type": "code",
      "source": [
        "csv_file_path = ['/content/drive/MyDrive/assignment7_slim_hospital_addresses.csv']\n",
        "\n",
        "df = pd.read_csv('/content/drive/MyDrive/assignment7_slim_hospital_addresses.csv')\n",
        "\n",
        "print(df.head)"
      ],
      "metadata": {
        "colab": {
          "base_uri": "https://localhost:8080/"
        },
        "id": "_egC2uBAJxxu",
        "outputId": "898cf17a-a9e7-403b-c09d-d728a5dcf7d5"
      },
      "execution_count": 7,
      "outputs": [
        {
          "output_type": "stream",
          "name": "stdout",
          "text": [
            "<bound method NDFrame.head of                                                    NAME  \\\n",
            "0                                      ANDALUSIA HEALTH   \n",
            "1                             ATHENS LIMESTONE HOSPITAL   \n",
            "2                             ATMORE COMMUNITY HOSPITAL   \n",
            "3                           BAPTIST MEDICAL CENTER EAST   \n",
            "4                          BAPTIST MEDICAL CENTER SOUTH   \n",
            "...                                                 ...   \n",
            "8008                                UNIVERSITY HOSPITAL   \n",
            "8009  CHILDREN'S HOSPITAL OF COLORADO - COLORADO SPR...   \n",
            "8010                  OCHSNER MEDICAL COMPLEX IBERVILLE   \n",
            "8011               MERCY HEALTH FOUNTIAN MEDICAL CAMPUS   \n",
            "8012  KANSAS CITY UNIVERSITY OF MEDIICINE AND BIOSCI...   \n",
            "\n",
            "                                       ADDRESS              CITY STATE  \n",
            "0     849 SOUTH THREE NOTCH STREET, PO BOX 760         ANDALUSIA    AL  \n",
            "1                       700 WEST MARKET STREET            ATHENS    AL  \n",
            "2                          401 MEDICAL PARK DR            ATMORE    AL  \n",
            "3               400 TAYLOR ROAD, PO BOX 241267        MONTGOMERY    AL  \n",
            "4      2105 EAST SOUTH BOULEVARD, PO BOX 11010        MONTGOMERY    AL  \n",
            "...                                        ...               ...   ...  \n",
            "8008                        97 SUNFIELD AVENUE            EDISON    NJ  \n",
            "8009                    4090 BRIARGATE PARKWAY  COLORADO SPRINGS    CO  \n",
            "8010                                25455 LA-1        PLAQUEMINE    LA  \n",
            "8011                       100 W MCCREIGHT AVE       SPRINGFIELD    OH  \n",
            "8012                      2901 ST. JOHN'S BLVD            JOPLIN    MO  \n",
            "\n",
            "[8013 rows x 4 columns]>\n"
          ]
        }
      ]
    },
    {
      "cell_type": "code",
      "source": [
        "list_of_address = df.iloc[:,1].sample(100)\n",
        "print(list_of_address)"
      ],
      "metadata": {
        "colab": {
          "base_uri": "https://localhost:8080/"
        },
        "id": "S4a-O0gm9_FI",
        "outputId": "008d6ecb-c905-4eef-ad5d-3b13caa9a747"
      },
      "execution_count": 8,
      "outputs": [
        {
          "output_type": "stream",
          "name": "stdout",
          "text": [
            "824              309 W BEVERLY BLVD\n",
            "6505          2101 ELM STREET NORTH\n",
            "6808                 1334 TERRY AVE\n",
            "6195          7930 FLOYD CURL DRIVE\n",
            "3035                 189 MAY STREET\n",
            "                   ...             \n",
            "3058                 199 OAK STREET\n",
            "325           900 WEST KINGSHIGHWAY\n",
            "5418               805 PAMPLICO HWY\n",
            "3422    140 BURKE-CALHOUN CITY ROAD\n",
            "1449                 6000 49TH ST N\n",
            "Name: ADDRESS, Length: 100, dtype: object\n"
          ]
        }
      ]
    }
  ]
}